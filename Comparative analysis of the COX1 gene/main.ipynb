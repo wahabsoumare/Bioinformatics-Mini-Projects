{
 "cells": [
  {
   "cell_type": "code",
   "execution_count": 1,
   "id": "7f5effa3",
   "metadata": {},
   "outputs": [],
   "source": [
    "import os\n",
    "import glob\n",
    "import time\n",
    "import requests\n",
    "from Bio import Entrez, SeqIO, AlignIO\n",
    "from Bio.Blast import NCBIWWW, NCBIXML"
   ]
  },
  {
   "cell_type": "markdown",
   "id": "5f1b4e71",
   "metadata": {},
   "source": [
    "Dans cette cellule, on importe toutes les bibliothèques nécessaires pour le projet :\n",
    "\n",
    "- `os`, `glob` et `time` : bibliothèques standards de Python pour manipuler les fichiers, rechercher des fichiers dans un dossier, et gérer le temps (utile pour attendre une réponse d'une API).\n",
    "- `requests` : permet d’envoyer des requêtes HTTP, utilisée ici pour interagir avec l’API web de Clustal Omega (EMBL-EBI).\n",
    "- `Bio` (Biopython) :\n",
    "  - `Entrez` : pour accéder aux bases de données NCBI (téléchargement de séquences).\n",
    "  - `SeqIO` : pour lire et écrire des fichiers FASTA.\n",
    "  - `AlignIO` : pour lire les fichiers d’alignement générés.\n",
    "  - `NCBIWWW`, `NCBIXML` : pour effectuer et analyser des recherches BLAST en ligne.\n",
    "\n",
    "Ces modules constituent les outils principaux pour manipuler des séquences biologiques, interagir avec des bases de données, et automatiser les analyses bioinformatiques."
   ]
  },
  {
   "cell_type": "code",
   "execution_count": 8,
   "id": "0de7bb64",
   "metadata": {},
   "outputs": [
    {
     "name": "stdout",
     "output_type": "stream",
     "text": [
      "Downloading Homo sapiens : 2798383825\n",
      "Downloading Pan troglodytes : 2898312748\n",
      "Downloading Gallus gallus : 2891539157\n"
     ]
    }
   ],
   "source": [
    "Entrez.email = 'abdoulwahab.soumare@ucad.edu.sn'\n",
    "\n",
    "species = ['Homo sapiens', 'Pan troglodytes', 'Gallus gallus']\n",
    "for specie in species:\n",
    "    search_term = f'{specie}[Organism] AND COX1[Gene]'\n",
    "    handle = Entrez.esearch(db = 'nucleotide', term = search_term, retmax = 1)\n",
    "    record = Entrez.read(handle)\n",
    "    handle.close()\n",
    "\n",
    "    if record['IdList']:\n",
    "        sequence_id = record['IdList'][0]\n",
    "        print(f'Downloading {specie} : {sequence_id}')\n",
    "\n",
    "        fetch_handle = Entrez.efetch(db = 'nucleotide', id = sequence_id, rettype = 'fasta', retmode = 'text')\n",
    "        sequence_record = SeqIO.read(handle = fetch_handle, format = 'fasta')\n",
    "        fetch_handle.close()\n",
    "\n",
    "        filename = f'{specie.replace(' ', '_')}_COX1.fasta'\n",
    "        SeqIO.write(sequence_record, f'data/sequences/{filename}', 'fasta')"
   ]
  },
  {
   "cell_type": "markdown",
   "id": "b0249b07",
   "metadata": {},
   "source": [
    "Dans cette cellule, on utilise l’outil **Entrez** de Biopython pour interroger la base de données **NCBI Nucleotide** et télécharger les séquences du gène **COX1** (Cytochrome c oxydase subunit 1) pour trois espèces :\n",
    "\n",
    "- *Homo sapiens* (humain)\n",
    "- *Pan troglodytes* (chimpanzé)\n",
    "- *Gallus gallus* (poulet)\n",
    "\n",
    "Voici les étapes détaillées :\n",
    "\n",
    "1. `Entrez.email` : requis pour utiliser l’API NCBI (bonne pratique, cela permet de vous contacter en cas d’abus).\n",
    "2. Pour chaque espèce :\n",
    "   - On construit une requête de recherche : `\"[Organism] AND COX1[Gene]\"` pour cibler le bon gène.\n",
    "   - `Entrez.esearch(...)` cherche la première séquence correspondante (grâce à `retmax=1`).\n",
    "   - Si un identifiant de séquence est trouvé, on le télécharge au format FASTA via `Entrez.efetch(...)`.\n",
    "   - On sauvegarde ensuite cette séquence dans un fichier `.fasta` dans le dossier `data/sequences/`, en renommant le fichier selon le nom de l’espèce.\n",
    "\n",
    "> 🗂️ Exemple de fichier généré : `Homo_sapiens_COX1.fasta`\n",
    "\n",
    "Ce processus permet d’automatiser la récupération de séquences d'intérêt à partir de la base de données publique NCBI."
   ]
  },
  {
   "cell_type": "code",
   "execution_count": 9,
   "id": "d894545d",
   "metadata": {},
   "outputs": [
    {
     "data": {
      "text/plain": [
       "3"
      ]
     },
     "execution_count": 9,
     "metadata": {},
     "output_type": "execute_result"
    }
   ],
   "source": [
    "files = glob.glob('data/sequences/*.fasta')\n",
    "sequences = []\n",
    "for file in files:\n",
    "    records = list(SeqIO.parse(file, 'fasta'))\n",
    "    sequences.extend(records)\n",
    "SeqIO.write(sequences = sequences, handle = 'data/sequences/COX1_combined.fasta', format = 'fasta')"
   ]
  },
  {
   "cell_type": "markdown",
   "id": "9f222c1d",
   "metadata": {},
   "source": [
    "Cette cellule a pour but de **rassembler toutes les séquences individuelles** téléchargées précédemment dans un **fichier FASTA combiné**.\n",
    "\n",
    "Étapes détaillées :\n",
    "\n",
    "1. `glob.glob('data/sequences/*.fasta')` : recherche tous les fichiers `.fasta` dans le dossier `data/sequences/`.\n",
    "2. Pour chaque fichier :\n",
    "   - On lit les séquences avec `SeqIO.parse(...)` et on les ajoute à une liste globale `sequences`.\n",
    "3. `SeqIO.write(...)` : écrit toutes les séquences dans un nouveau fichier unique appelé `COX1_combined.fasta`.\n",
    "\n",
    "> 🔄 Ce fichier sera utilisé pour les étapes suivantes d’alignement multiple et d’analyse comparative.\n",
    "\n",
    "Cela permet de préparer facilement un fichier multi-FASTA compatible avec les outils d'alignement."
   ]
  },
  {
   "cell_type": "code",
   "execution_count": 10,
   "id": "da8bf13f",
   "metadata": {},
   "outputs": [
    {
     "name": "stdout",
     "output_type": "stream",
     "text": [
      "Job submitted with ID : clustalo-R20250406-163407-0725-34051499-p1m\n",
      "Job status : RUNNING\n",
      "Job status : FINISHED\n",
      "Alignment completed and saved in COX1_aligned.fasta\n"
     ]
    }
   ],
   "source": [
    "with open('data/sequences/COX1_combined.fasta', 'r') as file:\n",
    "    sequences = file.read()\n",
    "\n",
    "url = 'https://www.ebi.ac.uk/Tools/services/rest/clustalo/run'\n",
    "parameters = {\n",
    "    'email': 'abdoulwahab.soumare@ucad.edu.sn',\n",
    "    'sequence': sequences,\n",
    "    'stype': 'dna',\n",
    "    'outfmt': 'fa'\n",
    "}\n",
    "\n",
    "response = requests.post(url = url, data = parameters)\n",
    "if response.status_code != 200:\n",
    "    print(f'Submission error : {response.text}')\n",
    "    exit()\n",
    "\n",
    "job_id = response.text\n",
    "print(f'Job submitted with ID : {job_id}')\n",
    "\n",
    "status_url = f'https://www.ebi.ac.uk/Tools/services/rest/clustalo/status/{job_id}'\n",
    "while True:\n",
    "    status = requests.get(url = status_url).text\n",
    "    print(f'Job status : {status}')\n",
    "\n",
    "    if status == 'FINISHED':\n",
    "        break\n",
    "    \n",
    "    elif status == 'ERROR':\n",
    "        print(f'Error during processing')\n",
    "        exit()\n",
    "\n",
    "    time.sleep(5)\n",
    "\n",
    "result_url = f'https://www.ebi.ac.uk/Tools/services/rest/clustalo/result/{job_id}/aln-fasta'\n",
    "result = requests.get(result_url)\n",
    "\n",
    "with open('data/sequences/COX1_aligned.fasta', 'w') as file:\n",
    "    file.write(result.text)\n",
    "\n",
    "print(\"Alignment completed and saved in COX1_aligned.fasta\")"
   ]
  },
  {
   "cell_type": "markdown",
   "id": "49171d2d",
   "metadata": {},
   "source": [
    "Dans cette cellule, on effectue un **alignement multiple de séquences ADN** à l’aide de **Clustal Omega**, mais sans avoir besoin de l’installer localement.  \n",
    "L’alignement est réalisé en appelant l’API REST officielle de l’EMBL-EBI.\n",
    "\n",
    "#### Étapes détaillées :\n",
    "\n",
    "1. **Lecture des séquences à aligner** depuis le fichier combiné `COX1_combined.fasta`.\n",
    "\n",
    "2. **Soumission du travail à l’API Clustal Omega** :\n",
    "   - L’URL de l’API (`/run`) permet d’envoyer les données pour traitement.\n",
    "   - Les paramètres incluent :\n",
    "     - l'adresse e-mail (obligatoire pour l’API),\n",
    "     - le type de séquences (`stype='dna'`),\n",
    "     - le format de sortie souhaité (`outfmt='fa'` pour FASTA).\n",
    "\n",
    "3. **Vérification du statut du job** :\n",
    "   - On récupère un `job_id` qui identifie le travail soumis.\n",
    "   - Ensuite, une boucle interroge régulièrement l’API (`/status/{job_id}`) jusqu’à ce que le traitement soit terminé (`status == 'FINISHED'`).\n",
    "\n",
    "4. **Récupération et sauvegarde du résultat** :\n",
    "   - Une fois terminé, l’alignement est récupéré via l’URL `/result/{job_id}/aln-fasta`.\n",
    "   - Le résultat est enregistré dans `COX1_aligned.fasta`.\n",
    "\n",
    "> 🔁 Ce système asynchrone permet de gérer des alignements en ligne, sans dépendance locale, et de récupérer le résultat automatiquement dès qu’il est prêt."
   ]
  },
  {
   "cell_type": "code",
   "execution_count": 11,
   "id": "bbf740b9",
   "metadata": {},
   "outputs": [
    {
     "name": "stdout",
     "output_type": "stream",
     "text": [
      "Length alignment : 751\n",
      "PQ902116.1 : --------------------------------------------------...\n",
      "PQ284536.1 : TTATTCGAGCCGAGCTGGGCCAGCCAGGCAACCTTCTAGGTAACGACCAC...\n",
      "PV053504.1 : --------------------------------------------------...\n"
     ]
    }
   ],
   "source": [
    "alignment = AlignIO.read(handle = 'data/sequences/COX1_aligned.fasta', format = 'fasta')\n",
    "print(f'Length alignment : {alignment.get_alignment_length()}')\n",
    "for record in alignment:\n",
    "    print(f'{record.id} : {record.seq[:50]}...')"
   ]
  },
  {
   "cell_type": "markdown",
   "id": "9e86f2ce",
   "metadata": {},
   "source": [
    "Dans cette cellule, on charge le fichier FASTA contenant les séquences alignées (`COX1_aligned.fasta`) et on en affiche un aperçu.\n",
    "\n",
    "#### Étapes détaillées :\n",
    "\n",
    "1. `AlignIO.read(...)` :\n",
    "   - Cette fonction de Biopython lit un alignement multiple à partir d’un fichier FASTA.\n",
    "   - Le résultat est un objet `MultipleSeqAlignment` contenant toutes les séquences alignées.\n",
    "\n",
    "2. `alignment.get_alignment_length()` :\n",
    "   - Renvoie la **longueur totale de l’alignement**, c’est-à-dire le nombre de positions (colonnes) dans l’alignement final, y compris les éventuels tirets (`-`) introduits pour l’alignement.\n",
    "\n",
    "3. La boucle `for record in alignment` :\n",
    "   - Parcourt chaque séquence alignée.\n",
    "   - Affiche les **50 premières bases** de chaque séquence pour un aperçu rapide de l’alignement et des régions conservées.\n",
    "\n",
    "> 🧬 Cette étape est utile pour vérifier que l’alignement a bien été effectué et pour observer visuellement les similarités ou différences entre les séquences."
   ]
  },
  {
   "cell_type": "markdown",
   "id": "3f9a20e0",
   "metadata": {},
   "source": [
    "Dans cette cellule, on effectue une **analyse BLAST (Basic Local Alignment Search Tool)** sur la séquence COX1 de *Homo sapiens* pour identifier des séquences similaires dans la base de données NCBI.\n",
    "\n",
    "#### Étapes détaillées :\n",
    "\n",
    "1. `SeqIO.read(...)` :\n",
    "   - On lit la séquence FASTA de *Homo sapiens* à partir du fichier téléchargé.\n",
    "\n",
    "2. `NCBIWWW.qblast(...)` :\n",
    "   - Envoie une requête BLAST en ligne via l’API du NCBI.\n",
    "   - `program='blastn'` : utilise BLAST pour l'ADN (nucleotide-nucleotide).\n",
    "   - `database='nt'` : recherche dans la base de données de nucléotides (`nt`).\n",
    "\n",
    "3. Le résultat est lu et **enregistré dans un fichier XML** (`blast_result.xml`) pour un traitement et une réutilisation ultérieure.\n",
    "\n",
    "4. `NCBIXML.read(...)` :\n",
    "   - Analyse le fichier XML de résultats BLAST et renvoie un objet contenant les alignements.\n",
    "\n",
    "5. La boucle `for alignment in blast_record.alignments[:3]` :\n",
    "   - Affiche les 3 premiers résultats de l’alignement.\n",
    "   - Pour chaque résultat, elle affiche :\n",
    "     - Le **titre de l’alignement** (organisme, gène, etc.),\n",
    "     - Le **score d’alignement** et le **nombre d’identités** (nucléotides identiques),\n",
    "     - Les **75 premiers nucléotides** de la requête (`query`), du sujet (`sbjct`), et la ligne d’appariement (`match`), qui indique les similarités visuelles.\n",
    "\n",
    "> 📌 Cette analyse permet d’identifier des séquences très similaires à la séquence COX1 humaine dans d’autres organismes, utile pour l’étude de la conservation génétique, de la phylogénie, ou pour vérifier l’annotation."
   ]
  },
  {
   "cell_type": "code",
   "execution_count": null,
   "id": "ba87feac",
   "metadata": {},
   "outputs": [
    {
     "name": "stdout",
     "output_type": "stream",
     "text": [
      "> gi|1530723588|gb|MH120725.1| Homo sapiens isolate K1-56 mitochondrion, complete genome\n",
      "Score: 1388.0, Identity : 694/694\n",
      "TTATTCGAGCCGAGCTGGGCCAGCCAGGCAACCTTCTAGGTAACGACCACATCTACAACGTTATCGTCACAGCCC\n",
      "|||||||||||||||||||||||||||||||||||||||||||||||||||||||||||||||||||||||||||\n",
      "TTATTCGAGCCGAGCTGGGCCAGCCAGGCAACCTTCTAGGTAACGACCACATCTACAACGTTATCGTCACAGCCC\n",
      "> gi|2419827820|gb|OP682084.1| Homo sapiens isolate CAN0324 mitochondrion, complete genome\n",
      "Score: 1388.0, Identity : 694/694\n",
      "TTATTCGAGCCGAGCTGGGCCAGCCAGGCAACCTTCTAGGTAACGACCACATCTACAACGTTATCGTCACAGCCC\n",
      "|||||||||||||||||||||||||||||||||||||||||||||||||||||||||||||||||||||||||||\n",
      "TTATTCGAGCCGAGCTGGGCCAGCCAGGCAACCTTCTAGGTAACGACCACATCTACAACGTTATCGTCACAGCCC\n",
      "> gi|2273659072|gb|MZ387509.1| Homo sapiens haplogroup H3 mitochondrion, complete genome\n",
      "Score: 1388.0, Identity : 694/694\n",
      "TTATTCGAGCCGAGCTGGGCCAGCCAGGCAACCTTCTAGGTAACGACCACATCTACAACGTTATCGTCACAGCCC\n",
      "|||||||||||||||||||||||||||||||||||||||||||||||||||||||||||||||||||||||||||\n",
      "TTATTCGAGCCGAGCTGGGCCAGCCAGGCAACCTTCTAGGTAACGACCACATCTACAACGTTATCGTCACAGCCC\n"
     ]
    }
   ],
   "source": [
    "sequence_record = SeqIO.read(handle = 'data/sequences/Homo_sapiens_COX1.fasta', format = 'fasta')\n",
    "\n",
    "result_handle = NCBIWWW.qblast(program = 'blastn', database = 'nt', sequence = sequence_record.seq)\n",
    "\n",
    "with open('data/XML/blast_result.xml', 'w') as out_handle:\n",
    "    out_handle.write(result_handle.read())\n",
    "\n",
    "result_handle.close()\n",
    "with open('data/XML/blast_result.xml') as result_handle:\n",
    "    blast_record = NCBIXML.read(result_handle)\n",
    "\n",
    "for alignment in blast_record.alignments[:3]:\n",
    "    print(f'> {alignment.title}')\n",
    "    for hsp in alignment.hsps:\n",
    "        print(f\"Score: {hsp.score}, Identity : {hsp.identities}/{hsp.align_length}\")\n",
    "        print(hsp.query[0:75])\n",
    "        print(hsp.match[0:75])\n",
    "        print(hsp.sbjct[0:75])\n",
    "        break"
   ]
  }
 ],
 "metadata": {
  "kernelspec": {
   "display_name": "env",
   "language": "python",
   "name": "python3"
  },
  "language_info": {
   "codemirror_mode": {
    "name": "ipython",
    "version": 3
   },
   "file_extension": ".py",
   "mimetype": "text/x-python",
   "name": "python",
   "nbconvert_exporter": "python",
   "pygments_lexer": "ipython3",
   "version": "3.12.6"
  }
 },
 "nbformat": 4,
 "nbformat_minor": 5
}
